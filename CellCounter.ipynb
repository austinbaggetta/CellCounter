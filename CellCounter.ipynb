{
 "cells": [
  {
   "cell_type": "markdown",
   "metadata": {},
   "source": [
    "### Welcome to CellCounter!"
   ]
  },
  {
   "cell_type": "markdown",
   "metadata": {},
   "source": [
    "This is a jupyter notebook that enables a user to automatically detect cells labeled with fluorescent markers after immunohistochemistry. By following the markdown documentation within this notebook, you will be able to (hopefully!) extract the number of cells that are positive for your marker of interest. The goal of CellCounter is to be user friendly and allow the user to adjust parameters to more accurately extract cells. Please feel free to open any GitHub issues or requests for new functions.\n",
    "\n",
    "This notebook supports multiple ROI drawing - if you have a picture of an entire brain slice, you would be able to draw multiple regions of interest and count cells within each ROI separately.\n",
    "\n",
    "Currently under development:\n",
    "1. Manually counting cells with circular ROIs.\n",
    "2. Save preprocessed images.\n",
    "3. Watershed method."
   ]
  },
  {
   "cell_type": "code",
   "execution_count": null,
   "metadata": {},
   "outputs": [],
   "source": [
    "import os\n",
    "import cv2\n",
    "import pandas as pd\n",
    "import numpy as np\n",
    "import xarray as xr\n",
    "import json \n",
    "from os.path import join as pjoin\n",
    "import plotly.express as px\n",
    "from dash import Dash, dcc, callback, html, Output, Input, no_update\n",
    "\n",
    "from preprocessing import (\n",
    "    load_image,\n",
    "    denoise,\n",
    "    remove_background,\n",
    "    calculate_threshold,\n",
    "    detect_cells,\n",
    "    contour_selection\n",
    ")\n",
    "\n",
    "from visualizations import (\n",
    "    extract_roi,\n",
    "    visualize_intensity_histogram,\n",
    "    crop_image_to_roi\n",
    ")\n",
    "\n",
    "def visualize_image(image, binary_string=True, create_roi=True, port=9091, rois=None, **kwargs):\n",
    "    fig = px.imshow(image, binary_string=binary_string)\n",
    "    fig.update_layout(modebar_add=['drawrect', 'drawclosedpath', 'eraseshape'], \n",
    "                      dragmode='pan', \n",
    "                      newshape=dict(line_color='darkorchid'),\n",
    "                      **kwargs)\n",
    "    if rois is not None:\n",
    "        for _, row in rois.iterrows():\n",
    "            fig.add_shape(type='rect',\n",
    "                x0=int(row['x0']), y0=int(row['y0']), x1=int(row['x1']), y1=int(row['y1']),\n",
    "                line=dict(color='darkorchid'),\n",
    "            )\n",
    "        \n",
    "\n",
    "    if create_roi:\n",
    "        app = Dash(__name__)\n",
    "        app.layout = html.Div(children=[\n",
    "            dcc.Graph(id='plot', \n",
    "                      figure=fig, \n",
    "                      config={'scrollZoom': True}),\n",
    "            html.Div([\n",
    "                    html.Pre(id='selected-data'),\n",
    "                ]),\n",
    "        ])\n",
    "\n",
    "        @callback(\n",
    "            Output('selected-data', 'children'),\n",
    "            Input('plot', 'relayoutData'),\n",
    "            prevent_initial_call=True)\n",
    "        def display_selected_data(relayoutData):\n",
    "            if 'shapes' in relayoutData:\n",
    "                global relayoutdata\n",
    "                relayoutdata = json.dumps(relayoutData['shapes'])\n",
    "                return relayoutdata\n",
    "            else:\n",
    "                return no_update\n",
    "        \n",
    "        if port is not None:\n",
    "            app.run_server(port=port)\n",
    "        else:\n",
    "            app.run_server(mode='inline')\n",
    "    else:\n",
    "        return fig.show(config={'scrollZoom': True})"
   ]
  },
  {
   "cell_type": "markdown",
   "metadata": {},
   "source": [
    "### Description of settings."
   ]
  },
  {
   "cell_type": "markdown",
   "metadata": {},
   "source": [
    "PyCellCounter has a few parameters that are important to be familiar with. They include:\n",
    "1. pattern - a string that is part of the name of your file of interest. For example, if your image is test_tdTomato.tiff, pattern can be tdTomato, test, etc.\n",
    "2. image_path - path to where your raw image data is.\n",
    "3. output_path - path to where your cell count data with contours will be stored.\n",
    "4. cell_diameter - average diameter of cells that will be used for median filtering to remove noise and tophat filtering to subtract the background.\n",
    "5. min_area - a cell's minimum contour area to be included in your counted cells.\n",
    "6. max_area - a cell's maximum contour area to be included in your counted cells.\n",
    "7. avg_cell_area - average contour area to be included in your counted cells.\n",
    "8. connected_cell_area - overlapping contour area to separate cells that will be included in your counted cells.\n",
    "9. config - config for graphs. ScrollZoom allows you to zoom into a graph using your mouse wheel.\n",
    "10. draw_roi - **Very important**. If True, you can draw ROIs in the first visualization step.\n",
    "12. visualize_only_cells - **Very important**. If True, at the end of the notebook you will only visualize the contours of the cells.\n",
    "13. contour_path - **Very important**. By default None. If None, you will be imaging the contours from the notebook. Otherwise you will visualize the contours that you load in through the specified path. Can be used if you want to visualize previously saved results and load previous ROIs."
   ]
  },
  {
   "cell_type": "code",
   "execution_count": null,
   "metadata": {},
   "outputs": [],
   "source": [
    "## Settings\n",
    "mouse = 'mcr03' \n",
    "channel_name = 'ch2'\n",
    "ieg = 'cfos'\n",
    "pattern = 'cfos'\n",
    "project_dir = 'CircleTrack_Recall'\n",
    "experiment_dir = 'Recall1'\n",
    "image_path = f'../CircleTrack/{project_dir}/{experiment_dir}/brain_slices/{mouse}/{ieg}/{channel_name}'\n",
    "output_path = f'../CircleTrack/{project_dir}/{experiment_dir}/brain_slices/{mouse}/output/Austin'\n",
    "\n",
    "if not os.path.exists(output_path):\n",
    "    os.makedirs(output_path)\n",
    "    \n",
    "## Preprocessing parameters\n",
    "cell_diameter = 10\n",
    "median_params = {'ksize': cell_diameter // 2}\n",
    "tophat_struct = cell_diameter * 7\n",
    "min_area = 600\n",
    "max_area = 2500\n",
    "avg_cell_area = 1000\n",
    "connected_cell_area = 1000\n",
    "\n",
    "## Key image parameters\n",
    "draw_roi = False ## If True you can draw roi(s) in the first visualization step\n",
    "crop_image = False ## If True, you can draw an ROI and then use that ROI to crop your analysis to just that ROI\n",
    "visualize_only_cells = False ## If False, will plot contours on top of binarized image\n",
    "contour_path = output_path # Can either be None or the path to where your previously counted cell data is stored\n",
    "\n",
    "## Visualization parameters\n",
    "contour_color = 100\n",
    "height = 800\n",
    "width = 800\n",
    "config = {'scrollZoom': True}"
   ]
  },
  {
   "cell_type": "code",
   "execution_count": null,
   "metadata": {},
   "outputs": [],
   "source": [
    "## Load image of interest. The variable can be named whatever you like.\n",
    "image = load_image(image_path, pattern=pattern, varr_name=f'{pattern}_channel')\n",
    "image"
   ]
  },
  {
   "cell_type": "code",
   "execution_count": null,
   "metadata": {},
   "outputs": [],
   "source": [
    "## Visualize image and draw roi(s) for further processing if roi_path is None\n",
    "if contour_path is not None and draw_roi:\n",
    "    raise Warning('Caution! You are loading a previously created roi while drawing a new one!')\n",
    "elif contour_path is not None and not draw_roi:\n",
    "    print('Loading previously drawn ROI...')\n",
    "    rois = pd.DataFrame()\n",
    "    for idx, file in enumerate(os.listdir(contour_path)):\n",
    "        previous_contours = xr.open_dataarray(pjoin(contour_path, file))\n",
    "        rois.loc[idx, 'roi'] = 0\n",
    "        rois.loc[idx, 'x0'] = previous_contours.attrs['x0']\n",
    "        rois.loc[idx, 'x1'] = previous_contours.attrs['x1']\n",
    "        rois.loc[idx, 'y0'] = previous_contours.attrs['y0']\n",
    "        rois.loc[idx, 'y1'] = previous_contours.attrs['y1']\n",
    "\n",
    "    visualize_image(image, create_roi=draw_roi, rois=rois, height=height, width=width)\n",
    "else:\n",
    "    print('Enabling ROI drawing...')\n",
    "    visualize_image(image, create_roi=draw_roi, height=height, width=width)"
   ]
  },
  {
   "cell_type": "code",
   "execution_count": null,
   "metadata": {},
   "outputs": [],
   "source": [
    "## Subset image to the ROI(s) and denoise\n",
    "im = image.copy()\n",
    "if draw_roi and crop_image:\n",
    "    rois = extract_roi(relayoutdata, shape_numbers=[0])\n",
    "    im = crop_image_to_roi(im, rois)\n",
    "elif draw_roi and not crop_image:\n",
    "    roi_data = json.loads(relayoutdata)\n",
    "    shape_numbers =  np.arange(0, len(roi_data))\n",
    "    rois = extract_roi(relayoutdata, shape_numbers=shape_numbers)\n",
    "\n",
    "if contour_path is not None and crop_image:\n",
    "    for idx, file in enumerate(os.listdir(contour_path)):\n",
    "        previous_contours = xr.open_dataarray(pjoin(contour_path, file))\n",
    "        rois = pd.DataFrame({'roi': 0, 'x0': previous_contours.attrs['x0'], 'x1': previous_contours.attrs['x1'],\n",
    "                             'y0': previous_contours.attrs['y0'], 'y1': previous_contours.attrs['y1']})\n",
    "        im = crop_image_to_roi(im, rois)\n",
    "\n",
    "im = denoise(im, method='median', **median_params)\n",
    "\n",
    "if not crop_image:\n",
    "    visualize_image(im, create_roi=False, height=height, width=width, rois=rois)\n",
    "else:\n",
    "    visualize_image(im, create_roi=False, height=height, width=width)"
   ]
  },
  {
   "cell_type": "code",
   "execution_count": null,
   "metadata": {},
   "outputs": [],
   "source": [
    "## Remove background and visualize background removal\n",
    "im = remove_background(im, method='tophat', wnd=tophat_struct)\n",
    "if not crop_image:\n",
    "    visualize_image(im, binary_string=True, create_roi=False, height=height, width=width, rois=rois)\n",
    "else:\n",
    "    visualize_image(im, binary_string=False, create_roi=False, height=height, width=width)"
   ]
  },
  {
   "cell_type": "code",
   "execution_count": null,
   "metadata": {},
   "outputs": [],
   "source": [
    "## Visualize a good threshold for binarization\n",
    "potential_threshold = 10 ## can edit based upon histogram\n",
    "threshold = calculate_threshold(im, thresh_type='otsu')\n",
    "fig = visualize_intensity_histogram(im, bins=255, range=[0, 255], density=True)\n",
    "fig.add_vline(x=threshold, line_width=1, line_dash='dash', line_color='darkorchid', opacity=1)\n",
    "fig.add_vline(x=potential_threshold, line_width=1, line_dash='dash', line_color='red', opacity=1)\n",
    "fig.show(config=config)"
   ]
  },
  {
   "cell_type": "markdown",
   "metadata": {},
   "source": [
    "Edit the binary_threshold value below based upon your visualization above. You can visualize the results of your binarization below."
   ]
  },
  {
   "cell_type": "code",
   "execution_count": null,
   "metadata": {},
   "outputs": [],
   "source": [
    "## Binarize image\n",
    "binary_threshold = threshold ## edit value, either threshold or potential_threshold\n",
    "image_binary = im.where(im >= binary_threshold, other=0)\n",
    "image_binary = image_binary.where(image_binary < binary_threshold, other=255)\n",
    "if not crop_image:\n",
    "    visualize_image(image_binary, create_roi=False, height=height, width=width, rois=rois)\n",
    "else:\n",
    "    visualize_image(image_binary, create_roi=False, height=height, width=width)"
   ]
  },
  {
   "cell_type": "markdown",
   "metadata": {},
   "source": [
    "The parameters below are included at the beginning and end of the notebook to ensure you are aware of their values and give you the opportunity to change them here. They will be saved along with the ROIs."
   ]
  },
  {
   "cell_type": "code",
   "execution_count": null,
   "metadata": {},
   "outputs": [],
   "source": [
    "## Edit parameters if needed.\n",
    "min_area = 500\n",
    "max_area = 2000\n",
    "avg_cell_area = 700\n",
    "connected_cell_area = 500"
   ]
  },
  {
   "cell_type": "code",
   "execution_count": null,
   "metadata": {},
   "outputs": [],
   "source": [
    "## Detect cells and save results to output_path\n",
    "for idx, row in rois.iterrows():\n",
    "    if not crop_image:\n",
    "        im_subset = image_binary[int(row['y0']):int(row['y1']), int(row['x0']):int(row['x1'])]\n",
    "    else:\n",
    "        im_subset = image_binary.copy()\n",
    "    \n",
    "    contours, hierarchy = cv2.findContours(im_subset.values, cv2.RETR_EXTERNAL, cv2.CHAIN_APPROX_SIMPLE)\n",
    "    num_cells, cell_contours = detect_cells(im_subset, \n",
    "                                            contours,\n",
    "                                            contour_color=contour_color,\n",
    "                                            minimum_area=min_area, \n",
    "                                            maximum_area=max_area, \n",
    "                                            average_cell_area=avg_cell_area, \n",
    "                                            connected_cell_area=connected_cell_area)\n",
    "\n",
    "    contour_ar = xr.DataArray(cell_contours,\n",
    "                            dims=['height', 'width'],\n",
    "                            name=f\"roi_{row['roi']+1}\",\n",
    "                            attrs=dict(\n",
    "                            x0=int(row['x0']),\n",
    "                            x1=int(row['x1']),\n",
    "                            y0=int(row['y0']),\n",
    "                            y1=int(row['y1']),\n",
    "                            num_cells=num_cells,\n",
    "                            min_area=min_area,\n",
    "                            max_area=max_area,\n",
    "                            avg_cell_area=avg_cell_area,\n",
    "                            connected_cell_area=connected_cell_area,\n",
    "                            file_name=pattern\n",
    "                            )\n",
    "                        )\n",
    "    contour_ar.astype(np.int8).to_netcdf(path=pjoin(output_path, f'{pattern}_{channel_name}_cell_contours_{contour_ar.name}.nc'))"
   ]
  },
  {
   "cell_type": "code",
   "execution_count": null,
   "metadata": {},
   "outputs": [],
   "source": [
    "## Visualize your results\n",
    "plot_data, num_contours = contour_selection(contour_ar=contour_ar, contour_color=contour_color, visualize_only_cells=visualize_only_cells, contour_path=None)\n",
    "visualize_image(plot_data, create_roi=False, height=height, width=width, title=dict(text=f'Number of cells: {num_contours}'))"
   ]
  }
 ],
 "metadata": {
  "kernelspec": {
   "display_name": "CellCounter",
   "language": "python",
   "name": "python3"
  },
  "language_info": {
   "codemirror_mode": {
    "name": "ipython",
    "version": 3
   },
   "file_extension": ".py",
   "mimetype": "text/x-python",
   "name": "python",
   "nbconvert_exporter": "python",
   "pygments_lexer": "ipython3",
   "version": "3.12.4"
  }
 },
 "nbformat": 4,
 "nbformat_minor": 2
}
